{
 "cells": [
  {
   "cell_type": "code",
   "execution_count": null,
   "id": "4400d54a-7fb9-45ad-942b-1d2a4cf8f87e",
   "metadata": {},
   "outputs": [],
   "source": [
    "# 1. Remover colunas desnecessárias\n",
    "sigec = sigec.drop(['NumCPFCNPJ', 'NomEmpreendimento', 'NumProcessoSIC'], axis=1)"
   ]
  },
  {
   "cell_type": "code",
   "execution_count": null,
   "id": "344dcb03-b70f-4ce4-a053-19fc024b4bd1",
   "metadata": {},
   "outputs": [],
   "source": [
    "# 2. Renomear colunas para nomes mais amigáveis (remover espaços e caracteres especiais)\n",
    "sigec = sigec.rename(columns={\n",
    "    'DatGeracaoConjuntoDados': 'Data_Geracao',\n",
    "    'Codcvnarr': 'Cod_Arrecadacao',\n",
    "    'AnmArrecadacao': 'Ano_Arrecadacao',\n",
    "    'DatVencimentoTitulo': 'Data_Vencimento',\n",
    "    'DatIncidenciaMultaMora': 'Data_Multa',\n",
    "    'DatPagamentoTitulo': 'Data_Pagamento',\n",
    "    'QtdDiasEmAtraso': 'Dias_Em_Atraso',\n",
    "    'SigNomAgente': 'Nome_Agente',\n",
    "    'NumAutoInfracao': 'Num_Auto_Infracao',\n",
    "    'DscSituacaoArrecadacao': 'Situacao_Arrecadacao',\n",
    "    'DscSituacaoCredito': 'Situacao_Credito',\n",
    "    'VlrPcpPrvArr': 'Valor_Principal',\n",
    "    'VlrTotPvrArr': 'Valor_Total',\n",
    "    'VlrTotPagArr': 'Valor_Pago',\n",
    "    'VlrTotDifPvrPagArr': 'Valor_Diferenca',\n",
    "    'VlrSelic': 'Taxa_Selic'\n",
    "})"
   ]
  },
  {
   "cell_type": "code",
   "execution_count": null,
   "id": "42acd395-51c7-4306-932e-99594a4ed5aa",
   "metadata": {},
   "outputs": [],
   "source": [
    "sigec.info()"
   ]
  },
  {
   "cell_type": "code",
   "execution_count": null,
   "id": "569a1e43-13cf-44c3-8275-343478f0c948",
   "metadata": {},
   "outputs": [],
   "source": [
    "# 4. Preencher valores ausentes (exemplo: preencher valores numéricos ausentes com zero)\n",
    "sigec.fillna({'Dias_Em_Atraso': 0,}, inplace=True)"
   ]
  },
  {
   "cell_type": "code",
   "execution_count": null,
   "id": "72a15e63-22a0-4711-bf29-77552a84e702",
   "metadata": {},
   "outputs": [],
   "source": [
    "# 5. Criar novas colunas derivadas\n",
    "## Atraso no pagamento\n",
    "sigec['Atraso_Pagamento'] = sigec['Dias_Em_Atraso'].apply(lambda x: 'Sim' if x > 0 else 'Não')"
   ]
  },
  {
   "cell_type": "code",
   "execution_count": null,
   "id": "05ff9f0f-f673-464c-a41a-a4ba14ee762b",
   "metadata": {},
   "outputs": [],
   "source": [
    "sigec['Valor_Diferenca'] = pd.to_numeric(sigec['Valor_Diferenca'], errors='coerce')"
   ]
  },
  {
   "cell_type": "code",
   "execution_count": null,
   "id": "cb2a474e-3eac-4259-b953-8829c9d2177d",
   "metadata": {},
   "outputs": [],
   "source": [
    "# 6. Conversão de tipos de colunas numéricas\n",
    "sigec['Valor_Principal'] = pd.to_numeric(sigec['Valor_Principal'], errors='coerce')\n",
    "sigec['Valor_Total'] = pd.to_numeric(sigec['Valor_Total'], errors='coerce')\n",
    "sigec['Valor_Pago'] = pd.to_numeric(sigec['Valor_Pago'], errors='coerce')\n",
    "sigec['Taxa_Selic'] = pd.to_numeric(sigec['Taxa_Selic'], errors='coerce')"
   ]
  },
  {
   "cell_type": "code",
   "execution_count": null,
   "id": "51ac2c8c-ef85-4eae-99a0-a55ab5498211",
   "metadata": {},
   "outputs": [],
   "source": [
    "# Exibir os dados transformados\n",
    "print(\"\\nDados transformados:\")\n",
    "sigec"
   ]
  },
  {
   "cell_type": "code",
   "execution_count": null,
   "id": "63e59e1a-b500-46d6-b46d-d2c1ebeeda8b",
   "metadata": {},
   "outputs": [],
   "source": [
    "# Salvar os dados transformados em um novo arquivo CSV\n",
    "sigec.to_csv('./Staging/sigec_taxa_de_fiscalizacao.csv', index=False)"
   ]
  }
 ],
 "metadata": {
  "kernelspec": {
   "display_name": "Python 3 (ipykernel)",
   "language": "python",
   "name": "python3"
  },
  "language_info": {
   "codemirror_mode": {
    "name": "ipython",
    "version": 3
   },
   "file_extension": ".py",
   "mimetype": "text/x-python",
   "name": "python",
   "nbconvert_exporter": "python",
   "pygments_lexer": "ipython3",
   "version": "3.12.4"
  }
 },
 "nbformat": 4,
 "nbformat_minor": 5
}
