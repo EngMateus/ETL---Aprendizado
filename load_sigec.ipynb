{
 "cells": [
  {
   "cell_type": "code",
   "execution_count": null,
   "id": "385afad4-3587-4fd1-8701-8c6e884d916f",
   "metadata": {},
   "outputs": [],
   "source": [
    "import sqlite3"
   ]
  },
  {
   "cell_type": "code",
   "execution_count": null,
   "id": "dbee000f-1233-4987-b6a6-2f6b80707c8c",
   "metadata": {},
   "outputs": [],
   "source": [
    "sigec = pd.read_csv(\"C:\\\\Users\\\\Mateus\\\\Desktop\\\\Projeto_Wesley\\\\Staging\\\\sigec_taxa_de_fiscalizacao.csv\")"
   ]
  },
  {
   "cell_type": "code",
   "execution_count": null,
   "id": "fa6d6ba7-2a43-4036-ab01-51910074f747",
   "metadata": {},
   "outputs": [],
   "source": [
    "# Criar/conectar ao banco de dados SQLite\n",
    "con = sqlite3.connect('sigec_taxa.db')"
   ]
  },
  {
   "cell_type": "code",
   "execution_count": null,
   "id": "1b98fc03-8cd1-4ce4-a3ca-047c439f725f",
   "metadata": {},
   "outputs": [],
   "source": [
    "# Criar um cursor\n",
    "cur = con.cursor()"
   ]
  },
  {
   "cell_type": "code",
   "execution_count": null,
   "id": "c8233e34-bbe5-4ad5-bd46-7cbfcdfde5af",
   "metadata": {},
   "outputs": [],
   "source": [
    "\n",
    "# Criar a tabela no SQLite (se não existir)\n",
    "con.execute('''\n",
    "CREATE TABLE IF NOT EXISTS sigec_taxa (\n",
    "    Data_Geracao TEXT,\n",
    "    Cod_Arrecadacao INTEGER,\n",
    "    Ano_Arrecadacao INTEGER,\n",
    "    Data_Vencimento TEXT,\n",
    "    Data_Multa TEXT,\n",
    "    Data_Pagamento TEXT,\n",
    "    Dias_Em_Atraso INTEGER,\n",
    "    Nome_Agente TEXT,\n",
    "    Num_Auto_Infracao TEXT,\n",
    "    Situacao_Arrecadacao TEXT,\n",
    "    Situacao_Credito TEXT,\n",
    "    Valor_Principal REAL,\n",
    "    Valor_Total REAL,\n",
    "    Valor_Pago REAL,\n",
    "    Valor_Diferenca REAL,\n",
    "    Taxa_Selic REAL,\n",
    "    Atraso_Pagamento TEXT,\n",
    "    Dif_Pagamento TEXT\n",
    ");\n",
    "''')"
   ]
  },
  {
   "cell_type": "code",
   "execution_count": null,
   "id": "4e818341-32ae-42ca-84b5-5aa65f0dd196",
   "metadata": {},
   "outputs": [],
   "source": [
    "sigec.to_sql('sigec_taxa', con, if_exists='append', index=False)"
   ]
  },
  {
   "cell_type": "code",
   "execution_count": null,
   "id": "49d9c1ba-2b80-465e-9b70-f9ab90479db0",
   "metadata": {},
   "outputs": [],
   "source": [
    "# Comita a conexão\n",
    "con.commit()"
   ]
  },
  {
   "cell_type": "code",
   "execution_count": null,
   "id": "41fbfe28-24b1-463e-beb3-5f9269a9e139",
   "metadata": {},
   "outputs": [],
   "source": [
    "# Fechar a conexão\n",
    "con.close()"
   ]
  },
  {
   "cell_type": "code",
   "execution_count": null,
   "id": "16bf6f46-2ba9-476e-b1c5-4e460d216999",
   "metadata": {},
   "outputs": [],
   "source": [
    "print(\"Dados carregados no banco de dados SQLite com sucesso!\")"
   ]
  }
 ],
 "metadata": {
  "kernelspec": {
   "display_name": "Python 3 (ipykernel)",
   "language": "python",
   "name": "python3"
  },
  "language_info": {
   "codemirror_mode": {
    "name": "ipython",
    "version": 3
   },
   "file_extension": ".py",
   "mimetype": "text/x-python",
   "name": "python",
   "nbconvert_exporter": "python",
   "pygments_lexer": "ipython3",
   "version": "3.12.4"
  }
 },
 "nbformat": 4,
 "nbformat_minor": 5
}
